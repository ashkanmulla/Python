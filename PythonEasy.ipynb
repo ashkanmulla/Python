{
  "nbformat": 4,
  "nbformat_minor": 0,
  "metadata": {
    "kernelspec": {
      "display_name": "Python 3",
      "language": "python",
      "name": "python3"
    },
    "language_info": {
      "codemirror_mode": {
        "name": "ipython",
        "version": 3
      },
      "file_extension": ".py",
      "mimetype": "text/x-python",
      "name": "python",
      "nbconvert_exporter": "python",
      "pygments_lexer": "ipython3",
      "version": "3.8.5"
    },
    "colab": {
      "name": "PythonEasy.ipynb",
      "provenance": [],
      "include_colab_link": true
    }
  },
  "cells": [
    {
      "cell_type": "markdown",
      "metadata": {
        "id": "view-in-github",
        "colab_type": "text"
      },
      "source": [
        "<a href=\"https://colab.research.google.com/github/ashkanmulla/Python/blob/main/PythonEasy.ipynb\" target=\"_parent\"><img src=\"https://colab.research.google.com/assets/colab-badge.svg\" alt=\"Open In Colab\"/></a>"
      ]
    },
    {
      "cell_type": "markdown",
      "metadata": {
        "id": "ECCqhJTDgXK4"
      },
      "source": [
        "## statements in python"
      ]
    },
    {
      "cell_type": "code",
      "metadata": {
        "id": "LTg-jiHNgXLG",
        "outputId": "0acb0a9d-042b-4ad4-8d22-adf7f43d9394",
        "colab": {
          "base_uri": "https://localhost:8080/"
        }
      },
      "source": [
        "x = 'abc'\n",
        "print('hello world',\n",
        "     x)"
      ],
      "execution_count": 1,
      "outputs": [
        {
          "output_type": "stream",
          "name": "stdout",
          "text": [
            "hello world abc\n"
          ]
        }
      ]
    },
    {
      "cell_type": "code",
      "metadata": {
        "id": "29bMY-O5gXLO",
        "outputId": "5dee7b5a-114e-4d1e-b753-fff43dd4b316",
        "colab": {
          "base_uri": "https://localhost:8080/"
        }
      },
      "source": [
        "x=11\n",
        "if x>10 and x<13:\n",
        "    \n",
        "    print(x)"
      ],
      "execution_count": 2,
      "outputs": [
        {
          "output_type": "stream",
          "name": "stdout",
          "text": [
            "11\n"
          ]
        }
      ]
    },
    {
      "cell_type": "code",
      "metadata": {
        "id": "PuPA_D4DgXLR",
        "outputId": "2fe1a6da-0c21-400a-c19c-edba7cd81729",
        "colab": {
          "base_uri": "https://localhost:8080/"
        }
      },
      "source": [
        "x =10\n",
        "x"
      ],
      "execution_count": 3,
      "outputs": [
        {
          "output_type": "execute_result",
          "data": {
            "text/plain": [
              "10"
            ]
          },
          "metadata": {},
          "execution_count": 3
        }
      ]
    },
    {
      "cell_type": "code",
      "metadata": {
        "id": "SYmcqVrCgXLT",
        "outputId": "f43ab590-787e-483e-e531-a59be0dd403c",
        "colab": {
          "base_uri": "https://localhost:8080/"
        }
      },
      "source": [
        "id(x)"
      ],
      "execution_count": 4,
      "outputs": [
        {
          "output_type": "execute_result",
          "data": {
            "text/plain": [
              "94540987796256"
            ]
          },
          "metadata": {},
          "execution_count": 4
        }
      ]
    },
    {
      "cell_type": "code",
      "metadata": {
        "id": "YwnHRP5wgXLV",
        "outputId": "d9cd94ca-2240-45c3-ce1f-6f973451bde3",
        "colab": {
          "base_uri": "https://localhost:8080/"
        }
      },
      "source": [
        "y = 10\n",
        "y"
      ],
      "execution_count": 5,
      "outputs": [
        {
          "output_type": "execute_result",
          "data": {
            "text/plain": [
              "10"
            ]
          },
          "metadata": {},
          "execution_count": 5
        }
      ]
    },
    {
      "cell_type": "code",
      "metadata": {
        "id": "VYxMF1sWgXLX",
        "outputId": "38cbfe9d-c7cd-4573-c8d4-2d57fcd67703",
        "colab": {
          "base_uri": "https://localhost:8080/"
        }
      },
      "source": [
        "id(y)"
      ],
      "execution_count": 6,
      "outputs": [
        {
          "output_type": "execute_result",
          "data": {
            "text/plain": [
              "94540987796256"
            ]
          },
          "metadata": {},
          "execution_count": 6
        }
      ]
    },
    {
      "cell_type": "code",
      "metadata": {
        "id": "QnbEVlAMgXLa",
        "outputId": "f0befd60-2f4e-4c78-ff1e-71fad4008a67",
        "colab": {
          "base_uri": "https://localhost:8080/"
        }
      },
      "source": [
        "x =15\n",
        "x"
      ],
      "execution_count": 7,
      "outputs": [
        {
          "output_type": "execute_result",
          "data": {
            "text/plain": [
              "15"
            ]
          },
          "metadata": {},
          "execution_count": 7
        }
      ]
    },
    {
      "cell_type": "code",
      "metadata": {
        "id": "4OyODrUpgXLc",
        "outputId": "6a3d7f1d-82ce-4564-fc17-93d960826b91",
        "colab": {
          "base_uri": "https://localhost:8080/"
        }
      },
      "source": [
        "id(x)"
      ],
      "execution_count": 8,
      "outputs": [
        {
          "output_type": "execute_result",
          "data": {
            "text/plain": [
              "94540987796416"
            ]
          },
          "metadata": {},
          "execution_count": 8
        }
      ]
    },
    {
      "cell_type": "code",
      "metadata": {
        "id": "wRsbjjDZgXLf",
        "outputId": "62579a24-54c4-4293-92e2-730be873a13b",
        "colab": {
          "base_uri": "https://localhost:8080/",
          "height": 36
        }
      },
      "source": [
        "hex(id(x))"
      ],
      "execution_count": 9,
      "outputs": [
        {
          "output_type": "execute_result",
          "data": {
            "application/vnd.google.colaboratory.intrinsic+json": {
              "type": "string"
            },
            "text/plain": [
              "'0x55fc09fe8bc0'"
            ]
          },
          "metadata": {},
          "execution_count": 9
        }
      ]
    },
    {
      "cell_type": "code",
      "metadata": {
        "id": "6LblA1OUgXLi",
        "outputId": "54bf143b-64fb-4e30-af6f-28d1624d943a",
        "colab": {
          "base_uri": "https://localhost:8080/"
        }
      },
      "source": [
        "2+5"
      ],
      "execution_count": 10,
      "outputs": [
        {
          "output_type": "execute_result",
          "data": {
            "text/plain": [
              "7"
            ]
          },
          "metadata": {},
          "execution_count": 10
        }
      ]
    },
    {
      "cell_type": "code",
      "metadata": {
        "id": "1Sn0jr1AgXLk",
        "outputId": "fa717b94-492b-4dc3-a7a4-6194bfb3115f",
        "colab": {
          "base_uri": "https://localhost:8080/"
        }
      },
      "source": [
        "5-7"
      ],
      "execution_count": 11,
      "outputs": [
        {
          "output_type": "execute_result",
          "data": {
            "text/plain": [
              "-2"
            ]
          },
          "metadata": {},
          "execution_count": 11
        }
      ]
    },
    {
      "cell_type": "code",
      "metadata": {
        "id": "DOGCM-f8gXLl",
        "outputId": "e2fcb433-f65d-441d-e968-96d65be94b1c",
        "colab": {
          "base_uri": "https://localhost:8080/"
        }
      },
      "source": [
        "5*7"
      ],
      "execution_count": 12,
      "outputs": [
        {
          "output_type": "execute_result",
          "data": {
            "text/plain": [
              "35"
            ]
          },
          "metadata": {},
          "execution_count": 12
        }
      ]
    },
    {
      "cell_type": "code",
      "metadata": {
        "id": "4sHkSnZQgXLn",
        "outputId": "0636de9f-d432-4add-a223-b8f202c4315a",
        "colab": {
          "base_uri": "https://localhost:8080/"
        }
      },
      "source": [
        "16/4"
      ],
      "execution_count": 13,
      "outputs": [
        {
          "output_type": "execute_result",
          "data": {
            "text/plain": [
              "4.0"
            ]
          },
          "metadata": {},
          "execution_count": 13
        }
      ]
    },
    {
      "cell_type": "code",
      "metadata": {
        "id": "DLHoYJRxgXLp",
        "outputId": "58c9815e-6fe6-4b87-b88d-d770505bf49c",
        "colab": {
          "base_uri": "https://localhost:8080/"
        }
      },
      "source": [
        "13//4,13%4"
      ],
      "execution_count": 14,
      "outputs": [
        {
          "output_type": "execute_result",
          "data": {
            "text/plain": [
              "(3, 1)"
            ]
          },
          "metadata": {},
          "execution_count": 14
        }
      ]
    },
    {
      "cell_type": "code",
      "metadata": {
        "id": "Y93i6p4RgXLq",
        "outputId": "a6081a24-60df-43a7-b89e-d92cfef9ea81",
        "colab": {
          "base_uri": "https://localhost:8080/"
        }
      },
      "source": [
        "-13//4,-13%4"
      ],
      "execution_count": 15,
      "outputs": [
        {
          "output_type": "execute_result",
          "data": {
            "text/plain": [
              "(-4, 3)"
            ]
          },
          "metadata": {},
          "execution_count": 15
        }
      ]
    },
    {
      "cell_type": "code",
      "metadata": {
        "id": "DcK6iB7KgXLr",
        "outputId": "b9a648d7-54a8-4c3f-e948-38daf5e61808",
        "colab": {
          "base_uri": "https://localhost:8080/"
        }
      },
      "source": [
        "13//-4,13%-4"
      ],
      "execution_count": 16,
      "outputs": [
        {
          "output_type": "execute_result",
          "data": {
            "text/plain": [
              "(-4, -3)"
            ]
          },
          "metadata": {},
          "execution_count": 16
        }
      ]
    },
    {
      "cell_type": "code",
      "metadata": {
        "id": "DyhvhpPogXLt",
        "outputId": "4c8b086e-a867-4a99-e0c8-f1e0f81a53ea",
        "colab": {
          "base_uri": "https://localhost:8080/"
        }
      },
      "source": [
        "-13//-4,-13%-4"
      ],
      "execution_count": 17,
      "outputs": [
        {
          "output_type": "execute_result",
          "data": {
            "text/plain": [
              "(3, -1)"
            ]
          },
          "metadata": {},
          "execution_count": 17
        }
      ]
    },
    {
      "cell_type": "code",
      "metadata": {
        "id": "NhmqJLZAgXLu"
      },
      "source": [
        "a=3*1.1\n",
        "b=3.3"
      ],
      "execution_count": 18,
      "outputs": []
    },
    {
      "cell_type": "code",
      "metadata": {
        "id": "QzlO6MNJgXLv",
        "outputId": "568efb46-cfc3-4ddd-c256-3b68fa8bab5f",
        "colab": {
          "base_uri": "https://localhost:8080/"
        }
      },
      "source": [
        "a==b"
      ],
      "execution_count": 19,
      "outputs": [
        {
          "output_type": "execute_result",
          "data": {
            "text/plain": [
              "False"
            ]
          },
          "metadata": {},
          "execution_count": 19
        }
      ]
    },
    {
      "cell_type": "code",
      "metadata": {
        "id": "tfVaYTilgXLw",
        "outputId": "9cc37be1-8d4d-4ede-9021-4584587047d2",
        "colab": {
          "base_uri": "https://localhost:8080/"
        }
      },
      "source": [
        "3*1.1"
      ],
      "execution_count": 20,
      "outputs": [
        {
          "output_type": "execute_result",
          "data": {
            "text/plain": [
              "3.3000000000000003"
            ]
          },
          "metadata": {},
          "execution_count": 20
        }
      ]
    },
    {
      "cell_type": "code",
      "metadata": {
        "id": "4RRx4AexgXLx",
        "outputId": "37d7c59f-ea25-4c22-9723-1585ea23c16c",
        "colab": {
          "base_uri": "https://localhost:8080/"
        }
      },
      "source": [
        "5*1.1"
      ],
      "execution_count": 21,
      "outputs": [
        {
          "output_type": "execute_result",
          "data": {
            "text/plain": [
              "5.5"
            ]
          },
          "metadata": {},
          "execution_count": 21
        }
      ]
    },
    {
      "cell_type": "code",
      "metadata": {
        "id": "0cOtmnTqgXLy"
      },
      "source": [
        "import math"
      ],
      "execution_count": 22,
      "outputs": []
    },
    {
      "cell_type": "code",
      "metadata": {
        "id": "lRRkgIB4gXLz",
        "outputId": "da306a0c-c96e-4e6e-c165-53a024fba0a6",
        "colab": {
          "base_uri": "https://localhost:8080/"
        }
      },
      "source": [
        "math.isclose(a,b)"
      ],
      "execution_count": 23,
      "outputs": [
        {
          "output_type": "execute_result",
          "data": {
            "text/plain": [
              "True"
            ]
          },
          "metadata": {},
          "execution_count": 23
        }
      ]
    },
    {
      "cell_type": "code",
      "metadata": {
        "id": "C6Tw-4ocgXL0",
        "outputId": "52b178b4-b5ae-4554-c48f-9b1d293a49ec",
        "colab": {
          "base_uri": "https://localhost:8080/"
        }
      },
      "source": [
        "False and True or True"
      ],
      "execution_count": 24,
      "outputs": [
        {
          "output_type": "execute_result",
          "data": {
            "text/plain": [
              "True"
            ]
          },
          "metadata": {},
          "execution_count": 24
        }
      ]
    },
    {
      "cell_type": "code",
      "metadata": {
        "id": "-cw1_kj7gXL1",
        "outputId": "1e256fe4-245e-4e58-bdf0-423c031a7036",
        "colab": {
          "base_uri": "https://localhost:8080/"
        }
      },
      "source": [
        "False or True and False"
      ],
      "execution_count": 25,
      "outputs": [
        {
          "output_type": "execute_result",
          "data": {
            "text/plain": [
              "False"
            ]
          },
          "metadata": {},
          "execution_count": 25
        }
      ]
    },
    {
      "cell_type": "code",
      "metadata": {
        "id": "MESsprrLgXL2",
        "outputId": "4a7514a1-6084-4661-e2bc-8214626a74c7",
        "colab": {
          "base_uri": "https://localhost:8080/"
        }
      },
      "source": [
        "False and (True or False)"
      ],
      "execution_count": 26,
      "outputs": [
        {
          "output_type": "execute_result",
          "data": {
            "text/plain": [
              "False"
            ]
          },
          "metadata": {},
          "execution_count": 26
        }
      ]
    },
    {
      "cell_type": "code",
      "metadata": {
        "id": "p7-f2v2mgXL2",
        "outputId": "9b6c7f2d-60e3-42ea-facf-5c1edce3d72a",
        "colab": {
          "base_uri": "https://localhost:8080/"
        }
      },
      "source": [
        "not False"
      ],
      "execution_count": 27,
      "outputs": [
        {
          "output_type": "execute_result",
          "data": {
            "text/plain": [
              "True"
            ]
          },
          "metadata": {},
          "execution_count": 27
        }
      ]
    },
    {
      "cell_type": "code",
      "metadata": {
        "id": "Kr0a3RDRgXL3",
        "outputId": "0326a65c-e1f2-4eae-ff10-4e5d0ad93609",
        "colab": {
          "base_uri": "https://localhost:8080/"
        }
      },
      "source": [
        "not True"
      ],
      "execution_count": 28,
      "outputs": [
        {
          "output_type": "execute_result",
          "data": {
            "text/plain": [
              "False"
            ]
          },
          "metadata": {},
          "execution_count": 28
        }
      ]
    },
    {
      "cell_type": "markdown",
      "metadata": {
        "id": "72wtvpI0gXL4"
      },
      "source": [
        "## Data structures"
      ]
    },
    {
      "cell_type": "code",
      "metadata": {
        "id": "Ujg7ZiwzgXL5",
        "outputId": "7caecd52-e0a7-42bc-e104-f7e841e3ba0c",
        "colab": {
          "base_uri": "https://localhost:8080/"
        }
      },
      "source": [
        "list1 = [1,2,3,4,5]\n",
        "list1"
      ],
      "execution_count": 29,
      "outputs": [
        {
          "output_type": "execute_result",
          "data": {
            "text/plain": [
              "[1, 2, 3, 4, 5]"
            ]
          },
          "metadata": {},
          "execution_count": 29
        }
      ]
    },
    {
      "cell_type": "code",
      "metadata": {
        "id": "sSfu8tDkgXL6",
        "outputId": "c6a55512-a36a-4bbb-ef5f-547944b52d61",
        "colab": {
          "base_uri": "https://localhost:8080/"
        }
      },
      "source": [
        "type(list1)"
      ],
      "execution_count": 30,
      "outputs": [
        {
          "output_type": "execute_result",
          "data": {
            "text/plain": [
              "list"
            ]
          },
          "metadata": {},
          "execution_count": 30
        }
      ]
    },
    {
      "cell_type": "code",
      "metadata": {
        "id": "yETtidEFgXL6",
        "outputId": "0652c51c-418f-4f6e-d82b-849f5d831e71",
        "colab": {
          "base_uri": "https://localhost:8080/"
        }
      },
      "source": [
        "tup1 = (10,20,30,40,50)\n",
        "tup1"
      ],
      "execution_count": 31,
      "outputs": [
        {
          "output_type": "execute_result",
          "data": {
            "text/plain": [
              "(10, 20, 30, 40, 50)"
            ]
          },
          "metadata": {},
          "execution_count": 31
        }
      ]
    },
    {
      "cell_type": "code",
      "metadata": {
        "id": "S5oV4lPugXL7",
        "outputId": "586dee9a-9b2a-40d2-a7f2-0d3945b3be08",
        "colab": {
          "base_uri": "https://localhost:8080/"
        }
      },
      "source": [
        "type(tup1)"
      ],
      "execution_count": 32,
      "outputs": [
        {
          "output_type": "execute_result",
          "data": {
            "text/plain": [
              "tuple"
            ]
          },
          "metadata": {},
          "execution_count": 32
        }
      ]
    },
    {
      "cell_type": "code",
      "metadata": {
        "id": "eYLLn3ZbgXL8",
        "outputId": "1456cdc4-014c-431a-f429-0726d874c7b8",
        "colab": {
          "base_uri": "https://localhost:8080/",
          "height": 0
        }
      },
      "source": [
        "str1 = 'hello world'\n",
        "str1"
      ],
      "execution_count": 33,
      "outputs": [
        {
          "output_type": "execute_result",
          "data": {
            "application/vnd.google.colaboratory.intrinsic+json": {
              "type": "string"
            },
            "text/plain": [
              "'hello world'"
            ]
          },
          "metadata": {},
          "execution_count": 33
        }
      ]
    },
    {
      "cell_type": "code",
      "metadata": {
        "id": "2F1ykGAcgXL9",
        "outputId": "8d48a1d5-bebb-4bfc-c7a3-278786ef5347",
        "colab": {
          "base_uri": "https://localhost:8080/"
        }
      },
      "source": [
        "type(str1)"
      ],
      "execution_count": 34,
      "outputs": [
        {
          "output_type": "execute_result",
          "data": {
            "text/plain": [
              "str"
            ]
          },
          "metadata": {},
          "execution_count": 34
        }
      ]
    },
    {
      "cell_type": "code",
      "metadata": {
        "id": "KlP61fSsgXL-",
        "outputId": "bcdfb353-ccd7-4403-b944-1c29b350b7ec",
        "colab": {
          "base_uri": "https://localhost:8080/"
        }
      },
      "source": [
        "list1"
      ],
      "execution_count": 35,
      "outputs": [
        {
          "output_type": "execute_result",
          "data": {
            "text/plain": [
              "[1, 2, 3, 4, 5]"
            ]
          },
          "metadata": {},
          "execution_count": 35
        }
      ]
    },
    {
      "cell_type": "code",
      "metadata": {
        "id": "72VsTdtagXL-",
        "outputId": "05dbcfdf-bf03-4857-940e-365fd2e80e40",
        "colab": {
          "base_uri": "https://localhost:8080/"
        }
      },
      "source": [
        "list1[3]"
      ],
      "execution_count": 36,
      "outputs": [
        {
          "output_type": "execute_result",
          "data": {
            "text/plain": [
              "4"
            ]
          },
          "metadata": {},
          "execution_count": 36
        }
      ]
    },
    {
      "cell_type": "code",
      "metadata": {
        "id": "6UXJY0uZgXL_",
        "outputId": "c3ce8358-ab79-4100-dbe3-33348873e2a3",
        "colab": {
          "base_uri": "https://localhost:8080/"
        }
      },
      "source": [
        "tup1"
      ],
      "execution_count": 37,
      "outputs": [
        {
          "output_type": "execute_result",
          "data": {
            "text/plain": [
              "(10, 20, 30, 40, 50)"
            ]
          },
          "metadata": {},
          "execution_count": 37
        }
      ]
    },
    {
      "cell_type": "code",
      "metadata": {
        "id": "gA_lDJrNgXMA",
        "outputId": "d843cd32-485f-46a7-fb8b-e338c644da43",
        "colab": {
          "base_uri": "https://localhost:8080/"
        }
      },
      "source": [
        "tup1[4]"
      ],
      "execution_count": 38,
      "outputs": [
        {
          "output_type": "execute_result",
          "data": {
            "text/plain": [
              "50"
            ]
          },
          "metadata": {},
          "execution_count": 38
        }
      ]
    },
    {
      "cell_type": "code",
      "metadata": {
        "id": "9cXes4TpgXMB",
        "outputId": "3c7561c6-80dc-481c-caf2-c46da0fbf7c3",
        "colab": {
          "base_uri": "https://localhost:8080/"
        }
      },
      "source": [
        "tup1[-1]"
      ],
      "execution_count": 39,
      "outputs": [
        {
          "output_type": "execute_result",
          "data": {
            "text/plain": [
              "50"
            ]
          },
          "metadata": {},
          "execution_count": 39
        }
      ]
    },
    {
      "cell_type": "markdown",
      "metadata": {
        "id": "yNBMBXlggXMC"
      },
      "source": [
        "## Slicing"
      ]
    },
    {
      "cell_type": "code",
      "metadata": {
        "id": "LRuD_fUmgXMC",
        "outputId": "fac5fcbf-c73c-4c68-d484-a0a371905890",
        "colab": {
          "base_uri": "https://localhost:8080/",
          "height": 36
        }
      },
      "source": [
        "str1"
      ],
      "execution_count": 40,
      "outputs": [
        {
          "output_type": "execute_result",
          "data": {
            "application/vnd.google.colaboratory.intrinsic+json": {
              "type": "string"
            },
            "text/plain": [
              "'hello world'"
            ]
          },
          "metadata": {},
          "execution_count": 40
        }
      ]
    },
    {
      "cell_type": "code",
      "metadata": {
        "id": "-wEU0DTxgXMD",
        "outputId": "ed50a178-cc32-470b-d51e-df2ff13aeeea",
        "colab": {
          "base_uri": "https://localhost:8080/",
          "height": 36
        }
      },
      "source": [
        "str1[1:3]"
      ],
      "execution_count": 41,
      "outputs": [
        {
          "output_type": "execute_result",
          "data": {
            "application/vnd.google.colaboratory.intrinsic+json": {
              "type": "string"
            },
            "text/plain": [
              "'el'"
            ]
          },
          "metadata": {},
          "execution_count": 41
        }
      ]
    },
    {
      "cell_type": "code",
      "metadata": {
        "id": "z73AhHmAgXMD",
        "outputId": "5883cfe3-4209-48ce-9aec-5e14b9c59b94",
        "colab": {
          "base_uri": "https://localhost:8080/",
          "height": 36
        }
      },
      "source": [
        "str1[0:5]"
      ],
      "execution_count": 42,
      "outputs": [
        {
          "output_type": "execute_result",
          "data": {
            "application/vnd.google.colaboratory.intrinsic+json": {
              "type": "string"
            },
            "text/plain": [
              "'hello'"
            ]
          },
          "metadata": {},
          "execution_count": 42
        }
      ]
    },
    {
      "cell_type": "code",
      "metadata": {
        "id": "N9zzJbqdgXME",
        "outputId": "ec9e2674-2a18-4d89-931e-4aa500dff34b",
        "colab": {
          "base_uri": "https://localhost:8080/"
        }
      },
      "source": [
        "list1"
      ],
      "execution_count": 43,
      "outputs": [
        {
          "output_type": "execute_result",
          "data": {
            "text/plain": [
              "[1, 2, 3, 4, 5]"
            ]
          },
          "metadata": {},
          "execution_count": 43
        }
      ]
    },
    {
      "cell_type": "code",
      "metadata": {
        "id": "L6m3XRb1gXMF",
        "outputId": "191f2a8d-fc36-4215-fb38-9045dfb0aebe",
        "colab": {
          "base_uri": "https://localhost:8080/"
        }
      },
      "source": [
        "list1[2:]"
      ],
      "execution_count": 44,
      "outputs": [
        {
          "output_type": "execute_result",
          "data": {
            "text/plain": [
              "[3, 4, 5]"
            ]
          },
          "metadata": {},
          "execution_count": 44
        }
      ]
    },
    {
      "cell_type": "code",
      "metadata": {
        "id": "8OgxO4lNgXMG",
        "outputId": "4ded2193-86ca-461a-8e1f-0e6f48134113",
        "colab": {
          "base_uri": "https://localhost:8080/"
        }
      },
      "source": [
        "list1[:4]"
      ],
      "execution_count": 45,
      "outputs": [
        {
          "output_type": "execute_result",
          "data": {
            "text/plain": [
              "[1, 2, 3, 4]"
            ]
          },
          "metadata": {},
          "execution_count": 45
        }
      ]
    },
    {
      "cell_type": "code",
      "metadata": {
        "id": "bKcfcq0_gXMG",
        "outputId": "3a100431-4081-4211-fa57-1f5a5f8a78c3",
        "colab": {
          "base_uri": "https://localhost:8080/"
        }
      },
      "source": [
        "list1[-1:-4:-2]"
      ],
      "execution_count": 46,
      "outputs": [
        {
          "output_type": "execute_result",
          "data": {
            "text/plain": [
              "[5, 3]"
            ]
          },
          "metadata": {},
          "execution_count": 46
        }
      ]
    },
    {
      "cell_type": "code",
      "metadata": {
        "id": "l_BKTBl_gXMH",
        "outputId": "2ad61207-d8f6-489d-8a6b-8f28ffeee220",
        "colab": {
          "base_uri": "https://localhost:8080/"
        }
      },
      "source": [
        "list1[:]"
      ],
      "execution_count": 47,
      "outputs": [
        {
          "output_type": "execute_result",
          "data": {
            "text/plain": [
              "[1, 2, 3, 4, 5]"
            ]
          },
          "metadata": {},
          "execution_count": 47
        }
      ]
    },
    {
      "cell_type": "code",
      "metadata": {
        "id": "d1t0luIvgXMI",
        "outputId": "cca331fd-7b91-47cb-dc50-e48c0b8b0034",
        "colab": {
          "base_uri": "https://localhost:8080/"
        }
      },
      "source": [
        "list1[1:4:2]"
      ],
      "execution_count": 48,
      "outputs": [
        {
          "output_type": "execute_result",
          "data": {
            "text/plain": [
              "[2, 4]"
            ]
          },
          "metadata": {},
          "execution_count": 48
        }
      ]
    },
    {
      "cell_type": "code",
      "metadata": {
        "id": "VaL79HY4gXMI",
        "outputId": "4e7fe717-0c98-4c48-95aa-14c687c42f14",
        "colab": {
          "base_uri": "https://localhost:8080/"
        }
      },
      "source": [
        "list1[::-1]"
      ],
      "execution_count": 49,
      "outputs": [
        {
          "output_type": "execute_result",
          "data": {
            "text/plain": [
              "[5, 4, 3, 2, 1]"
            ]
          },
          "metadata": {},
          "execution_count": 49
        }
      ]
    },
    {
      "cell_type": "code",
      "metadata": {
        "id": "ylk52403gXMJ",
        "outputId": "82b6b85b-5367-4d0f-8da0-3a3dc4a374f6",
        "colab": {
          "base_uri": "https://localhost:8080/",
          "height": 36
        }
      },
      "source": [
        "str1=\"Welcome\"\n",
        "str1"
      ],
      "execution_count": 50,
      "outputs": [
        {
          "output_type": "execute_result",
          "data": {
            "application/vnd.google.colaboratory.intrinsic+json": {
              "type": "string"
            },
            "text/plain": [
              "'Welcome'"
            ]
          },
          "metadata": {},
          "execution_count": 50
        }
      ]
    },
    {
      "cell_type": "code",
      "metadata": {
        "id": "QA6t_H7lgXMK",
        "outputId": "6da823ed-17ea-40b5-ed45-cdc3bc8ff0c6",
        "colab": {
          "base_uri": "https://localhost:8080/",
          "height": 36
        }
      },
      "source": [
        "str1[::-1]"
      ],
      "execution_count": 51,
      "outputs": [
        {
          "output_type": "execute_result",
          "data": {
            "application/vnd.google.colaboratory.intrinsic+json": {
              "type": "string"
            },
            "text/plain": [
              "'emocleW'"
            ]
          },
          "metadata": {},
          "execution_count": 51
        }
      ]
    },
    {
      "cell_type": "code",
      "metadata": {
        "id": "gjZPH9mvgXMK",
        "outputId": "37fba664-ec54-4756-fa83-a203a11a3a2e",
        "colab": {
          "base_uri": "https://localhost:8080/"
        }
      },
      "source": [
        "list(enumerate(str1))"
      ],
      "execution_count": 52,
      "outputs": [
        {
          "output_type": "execute_result",
          "data": {
            "text/plain": [
              "[(0, 'W'), (1, 'e'), (2, 'l'), (3, 'c'), (4, 'o'), (5, 'm'), (6, 'e')]"
            ]
          },
          "metadata": {},
          "execution_count": 52
        }
      ]
    },
    {
      "cell_type": "code",
      "metadata": {
        "id": "w5B6fT_9gXML"
      },
      "source": [
        ""
      ],
      "execution_count": 52,
      "outputs": []
    }
  ]
}